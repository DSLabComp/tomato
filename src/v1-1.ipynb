{
 "cells": [
  {
   "cell_type": "markdown",
   "id": "7b603d46",
   "metadata": {},
   "source": [
    "# v1-1 Pretraining\n",
    "https://www.tensorflow.org/tutorials/images/transfer_learning?hl=ko\n",
    "\n",
    "1. Code, image 정리\n",
    "2. Epochs 추가"
   ]
  },
  {
   "cell_type": "code",
   "execution_count": 1,
   "id": "cfc1c569",
   "metadata": {},
   "outputs": [],
   "source": [
    "from util import *\n",
    "%load_ext autoreload\n",
    "%autoreload 2\n",
    "%matplotlib inline\n",
    "\n",
    "# os.environ[\"CUDA_DEVICE_ORDER\"]=\"PCI_BUS_ID\"   \n",
    "# os.environ[\"CUDA_VISIBLE_DEVICES\"]=\"0\"\n",
    "try:\n",
    "    for gpu in tf.config.experimental.list_physical_devices('GPU'):\n",
    "        tf.config.experimental.set_memory_growth(gpu, True)\n",
    "except RuntimeError as e:\n",
    "    print(e)"
   ]
  },
  {
   "cell_type": "code",
   "execution_count": 2,
   "id": "c97dc1b6",
   "metadata": {},
   "outputs": [],
   "source": [
    "batch_size = 32\n",
    "img_height = 180\n",
    "img_width  = 180\n",
    "RS         = 42"
   ]
  },
  {
   "cell_type": "code",
   "execution_count": 3,
   "id": "0c1870d8",
   "metadata": {},
   "outputs": [
    {
     "name": "stdout",
     "output_type": "stream",
     "text": [
      "Found 13861 files belonging to 10 classes.\n",
      "Using 11089 files for training.\n",
      "Found 13861 files belonging to 10 classes.\n",
      "Using 2772 files for validation.\n",
      "['Tomato_D01', 'Tomato_D04', 'Tomato_D05', 'Tomato_D07', 'Tomato_D08', 'Tomato_D09', 'Tomato_H', 'Tomato_P03', 'Tomato_P05', 'Tomato_R01']\n",
      "(32, 180, 180, 3)\n",
      "(32,)\n"
     ]
    }
   ],
   "source": [
    "data_dir = join(PATH.INPUT, 'train')\n",
    "train_ds = tf.keras.preprocessing.image_dataset_from_directory(\n",
    "    data_dir, validation_split=0.2, subset='training', shuffle=True, seed=RS, image_size=(img_height, img_width), batch_size=batch_size\n",
    ")\n",
    "val_ds   = tf.keras.preprocessing.image_dataset_from_directory(\n",
    "    data_dir, validation_split=0.2, subset='validation', shuffle=True, seed=RS, image_size=(img_height, img_width), batch_size=batch_size\n",
    ")\n",
    "class_names = train_ds.class_names\n",
    "num_classes = len(class_names)\n",
    "print(class_names)\n",
    "\n",
    "for image_batch, labels_batch in train_ds:\n",
    "    print(image_batch.shape)\n",
    "    print(labels_batch.shape)\n",
    "    break\n",
    "    \n",
    "AUTOTUNE = tf.data.experimental.AUTOTUNE\n",
    "\n",
    "train_ds = train_ds.cache().shuffle(1000).prefetch(buffer_size=AUTOTUNE)\n",
    "val_ds   = val_ds.cache().prefetch(buffer_size=AUTOTUNE)"
   ]
  },
  {
   "cell_type": "code",
   "execution_count": 4,
   "id": "40678c03",
   "metadata": {},
   "outputs": [
    {
     "name": "stdout",
     "output_type": "stream",
     "text": [
      "Model: \"sequential_1\"\n",
      "_________________________________________________________________\n",
      "Layer (type)                 Output Shape              Param #   \n",
      "=================================================================\n",
      "sequential (Sequential)      (None, 180, 180, 3)       0         \n",
      "_________________________________________________________________\n",
      "rescaling (Rescaling)        (None, 180, 180, 3)       0         \n",
      "_________________________________________________________________\n",
      "conv2d (Conv2D)              (None, 180, 180, 16)      448       \n",
      "_________________________________________________________________\n",
      "max_pooling2d (MaxPooling2D) (None, 90, 90, 16)        0         \n",
      "_________________________________________________________________\n",
      "conv2d_1 (Conv2D)            (None, 90, 90, 32)        4640      \n",
      "_________________________________________________________________\n",
      "max_pooling2d_1 (MaxPooling2 (None, 45, 45, 32)        0         \n",
      "_________________________________________________________________\n",
      "conv2d_2 (Conv2D)            (None, 45, 45, 64)        18496     \n",
      "_________________________________________________________________\n",
      "max_pooling2d_2 (MaxPooling2 (None, 22, 22, 64)        0         \n",
      "_________________________________________________________________\n",
      "dropout (Dropout)            (None, 22, 22, 64)        0         \n",
      "_________________________________________________________________\n",
      "flatten (Flatten)            (None, 30976)             0         \n",
      "_________________________________________________________________\n",
      "dense (Dense)                (None, 128)               3965056   \n",
      "_________________________________________________________________\n",
      "dense_1 (Dense)              (None, 10)                1290      \n",
      "=================================================================\n",
      "Total params: 3,989,930\n",
      "Trainable params: 3,989,930\n",
      "Non-trainable params: 0\n",
      "_________________________________________________________________\n"
     ]
    }
   ],
   "source": [
    "from tensorflow.keras import layers\n",
    "    \n",
    "normalization_layer = layers.experimental.preprocessing.Rescaling(1./255)\n",
    "data_augmentation = Sequential([\n",
    "    layers.experimental.preprocessing.RandomFlip('horizontal', input_shape=(img_height, img_width, 3)),\n",
    "    layers.experimental.preprocessing.RandomRotation(0.1),\n",
    "    layers.experimental.preprocessing.RandomZoom(0.1)\n",
    "])\n",
    "model = Sequential([\n",
    "    data_augmentation,\n",
    "    normalization_layer,\n",
    "    \n",
    "    layers.Conv2D(16, 3, padding='same', activation='relu'),\n",
    "    layers.MaxPooling2D(),\n",
    "\n",
    "    layers.Conv2D(32, 3, padding='same', activation='relu'),\n",
    "    layers.MaxPooling2D(),\n",
    "\n",
    "    layers.Conv2D(64, 3, padding='same', activation='relu'),\n",
    "    layers.MaxPooling2D(),\n",
    "\n",
    "    layers.Dropout(0.2),\n",
    "    \n",
    "    layers.Flatten(),\n",
    "    layers.Dense(128, activation='relu'),\n",
    "    layers.Dense(num_classes)\n",
    "])\n",
    "model.compile(optimizer='adam', loss=keras.losses.SparseCategoricalCrossentropy(from_logits=True), metrics=['accuracy'])\n",
    "model.summary()"
   ]
  },
  {
   "cell_type": "code",
   "execution_count": null,
   "id": "f15a4946",
   "metadata": {},
   "outputs": [
    {
     "name": "stdout",
     "output_type": "stream",
     "text": [
      "Epoch 1/15\n",
      "347/347 [==============================] - 16s 19ms/step - loss: 0.9169 - accuracy: 0.7189 - val_loss: 0.6740 - val_accuracy: 0.8052\n",
      "Epoch 2/15\n",
      "347/347 [==============================] - 5s 14ms/step - loss: 0.6939 - accuracy: 0.7908 - val_loss: 0.6549 - val_accuracy: 0.8059\n",
      "Epoch 3/15\n",
      "347/347 [==============================] - 5s 14ms/step - loss: 0.6081 - accuracy: 0.8124 - val_loss: 0.5426 - val_accuracy: 0.8424\n",
      "Epoch 4/15\n",
      "347/347 [==============================] - 5s 14ms/step - loss: 0.5486 - accuracy: 0.8277 - val_loss: 0.5586 - val_accuracy: 0.8369\n",
      "Epoch 5/15\n",
      "347/347 [==============================] - 5s 14ms/step - loss: 0.5077 - accuracy: 0.8379 - val_loss: 0.5033 - val_accuracy: 0.8485\n",
      "Epoch 6/15\n",
      "347/347 [==============================] - 5s 14ms/step - loss: 0.4655 - accuracy: 0.8523 - val_loss: 0.4324 - val_accuracy: 0.8640\n",
      "Epoch 7/15\n",
      "347/347 [==============================] - 5s 14ms/step - loss: 0.4389 - accuracy: 0.8550 - val_loss: 0.5026 - val_accuracy: 0.8431\n",
      "Epoch 8/15\n",
      "347/347 [==============================] - 5s 14ms/step - loss: 0.4029 - accuracy: 0.8714 - val_loss: 0.5364 - val_accuracy: 0.8355\n",
      "Epoch 9/15\n",
      "347/347 [==============================] - 5s 14ms/step - loss: 0.3776 - accuracy: 0.8785 - val_loss: 0.3866 - val_accuracy: 0.8727\n",
      "Epoch 10/15\n",
      "347/347 [==============================] - 5s 14ms/step - loss: 0.3681 - accuracy: 0.8783 - val_loss: 0.4070 - val_accuracy: 0.8690\n",
      "Epoch 11/15\n",
      "347/347 [==============================] - 5s 14ms/step - loss: 0.3394 - accuracy: 0.8894 - val_loss: 0.3705 - val_accuracy: 0.8813\n",
      "Epoch 12/15\n",
      "347/347 [==============================] - 5s 14ms/step - loss: 0.3225 - accuracy: 0.8913 - val_loss: 0.4795 - val_accuracy: 0.8395\n",
      "Epoch 13/15\n",
      "347/347 [==============================] - 5s 14ms/step - loss: 0.3058 - accuracy: 0.8980 - val_loss: 0.4350 - val_accuracy: 0.8672\n",
      "Epoch 14/15\n",
      "347/347 [==============================] - 5s 14ms/step - loss: 0.2903 - accuracy: 0.9027 - val_loss: 0.3775 - val_accuracy: 0.8838\n",
      "Epoch 15/15\n",
      "345/347 [============================>.] - ETA: 0s - loss: 0.2814 - accuracy: 0.9051"
     ]
    }
   ],
   "source": [
    "epochs = 15\n",
    "history = model.fit(\n",
    "    train_ds, validation_data=val_ds, epochs=epochs\n",
    ")"
   ]
  },
  {
   "cell_type": "code",
   "execution_count": null,
   "id": "e479cece",
   "metadata": {},
   "outputs": [],
   "source": [
    "hist         = history.history\n",
    "epochs_range = range(epochs)\n",
    "\n",
    "plt.figure(figsize=(16, 8))\n",
    "for idx, metric in enumerate(['accuracy', 'loss']):\n",
    "    train_metric = hist[metric]\n",
    "    val_metric   = hist[f'val_{metric}']\n",
    "    \n",
    "    plt.subplot(1, 2, idx+1)\n",
    "    plt.plot(epochs_range, train_metric, label=f'training {metric}')\n",
    "    plt.plot(epochs_range, val_metric, label=f'validation {metric}')\n",
    "    plt.legend(fontsize='x-large');  plt.grid()\n",
    "    plt.title(f'Training and Validation {metric}')\n",
    "    \n",
    "plt.show()"
   ]
  },
  {
   "cell_type": "code",
   "execution_count": null,
   "id": "c6cae406",
   "metadata": {},
   "outputs": [],
   "source": [
    "data_dir = join(PATH.INPUT, 'test')\n",
    "\n",
    "img_arrays = []\n",
    "names      = []\n",
    "for path, name in sorted(list_files(data_dir), key=lambda e: int(''.join(filter(str.isdigit, e[1])))):\n",
    "    img = keras.preprocessing.image.load_img(path, target_size=(img_height, img_width))\n",
    "    img_array = keras.preprocessing.image.img_to_array(img)\n",
    "    img_arrays.append(img_array)\n",
    "    names.append(name)\n",
    "img_arrays = np.array(img_arrays)\n",
    "\n",
    "predictions = model.predict(img_arrays)\n",
    "predictions = np.argmax(predictions, axis=1)\n",
    "\n",
    "sub = pd.DataFrame({'file_name': names, 'answer': predictions})\n",
    "output_path = join(PATH.OUTPUT, 'v1-1.csv')\n",
    "sub.to_csv(output_path, index=None)"
   ]
  }
 ],
 "metadata": {
  "kernelspec": {
   "display_name": "Python 3",
   "language": "python",
   "name": "python3"
  },
  "language_info": {
   "codemirror_mode": {
    "name": "ipython",
    "version": 3
   },
   "file_extension": ".py",
   "mimetype": "text/x-python",
   "name": "python",
   "nbconvert_exporter": "python",
   "pygments_lexer": "ipython3",
   "version": "3.8.10"
  }
 },
 "nbformat": 4,
 "nbformat_minor": 5
}
